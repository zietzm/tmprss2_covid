{
 "cells": [
  {
   "cell_type": "code",
   "execution_count": 1,
   "metadata": {},
   "outputs": [],
   "source": [
    "suppressPackageStartupMessages(library(broom))\n",
    "suppressPackageStartupMessages(library(cowplot))\n",
    "suppressPackageStartupMessages(library(kableExtra))\n",
    "suppressPackageStartupMessages(library(recipes))\n",
    "suppressPackageStartupMessages(library(survival))\n",
    "suppressPackageStartupMessages(library(tidyverse))"
   ]
  },
  {
   "cell_type": "code",
   "execution_count": 2,
   "metadata": {},
   "outputs": [],
   "source": [
    "con <- DBI::dbConnect(\n",
    "    RMariaDB::MariaDB(),\n",
    "    host = \"localhost\",\n",
    "    user = \"mnz2108\",\n",
    "    dbname = \"user_mnz2108\",\n",
    "    password = read_file('~/git/abo_covid_analysis/mysql_password.txt') %>% str_squish\n",
    ")"
   ]
  },
  {
   "cell_type": "markdown",
   "metadata": {},
   "source": [
    "## 1. Gather data"
   ]
  },
  {
   "cell_type": "code",
   "execution_count": 3,
   "metadata": {},
   "outputs": [],
   "source": [
    "# Demographics and outcomes\n",
    "demogs_outcomes_df <- con %>% tbl('tmprss2_complete') %>% as_tibble\n",
    "\n",
    "# Drug exposures\n",
    "drug_exposures_df <- con %>% tbl('tmprss2_drug_exposures') %>% as_tibble\n",
    "\n",
    "# Propensity matching conditions\n",
    "conditions_df <- con %>% tbl('tmprss2_match_condition_occurrences') %>% as_tibble"
   ]
  },
  {
   "cell_type": "code",
   "execution_count": 4,
   "metadata": {},
   "outputs": [],
   "source": [
    "full_df <- demogs_outcomes_df %>%\n",
    "    # Add drug exposures (with explicit non-exposure)\n",
    "    left_join(\n",
    "        drug_exposures_df %>% distinct(pat_mrn_id, drug_class_name) %>% mutate(had_drug = 1),\n",
    "        by = 'pat_mrn_id'\n",
    "    ) %>%\n",
    "    complete(nesting(pat_mrn_id, male_sex, age, race, ethnicity, intubated, cov_start_to_intubation,\n",
    "                     died, cov_start_to_death), nesting(drug_class_name)) %>%\n",
    "    filter(!is.na(drug_class_name)) %>%\n",
    "    replace_na(list(had_drug = 0)) %>%\n",
    "    # Don't look at drug classes with < 100 people\n",
    "    group_by(drug_class_name) %>%\n",
    "    filter(sum(had_drug) >= 100) %>%\n",
    "    ungroup %>%\n",
    "    # Add conditions for matching\n",
    "    left_join(\n",
    "        conditions_df %>% \n",
    "            mutate(had_icd = 1) %>%\n",
    "            pivot_wider(names_from = icd10, values_from = had_icd, \n",
    "                        values_fill = list(had_icd = 0), names_prefix = 'icd_'),\n",
    "        by = 'pat_mrn_id'\n",
    "    ) %>%\n",
    "    mutate(across(starts_with('icd_'), ~replace_na(., 0))) %>%\n",
    "    # One-hot encode race and ethnicity\n",
    "    recipe() %>%\n",
    "    step_dummy(race, ethnicity, one_hot = T) %>%\n",
    "    prep() %>%\n",
    "    juice()"
   ]
  },
  {
   "cell_type": "code",
   "execution_count": 5,
   "metadata": {},
   "outputs": [
    {
     "data": {
      "text/html": [
       "<dl>\n",
       "</dl>\n"
      ],
      "text/latex": [
       "\\begin{description}\n",
       "\\end{description}\n"
      ],
      "text/markdown": [
       "\n",
       "\n"
      ],
      "text/plain": [
       "named list()"
      ]
     },
     "metadata": {},
     "output_type": "display_data"
    }
   ],
   "source": [
    "# QC no NaNs in the table\n",
    "full_df %>% map(~sum(is.na(.x))) %>% keep(~. > 0)"
   ]
  },
  {
   "cell_type": "markdown",
   "metadata": {},
   "source": [
    "## 2. Propensity matching"
   ]
  },
  {
   "cell_type": "code",
   "execution_count": 6,
   "metadata": {},
   "outputs": [],
   "source": [
    "stratified_propensity_match <- function(formula, data, n_bins = 50, control_to_case_ratio = 1) {\n",
    "    # Stratified propensity score matching. Computes a propensity score using \n",
    "    # logistic regression on the given formula. Scores are discretized into `n_bins` bins, \n",
    "    # and controls are sampled at a ratio of `control_to_case_ratio`, with replacement if the \n",
    "    # number of needed controls is larger than the number available.\n",
    "    bin_edges = seq(0, 1, length.out = n_bins + 2)\n",
    "    outcome = formula %>% all.vars() %>% first\n",
    "    set.seed(0)    \n",
    "    data %>%\n",
    "        glm(formula, data = ., family = binomial()) %>%\n",
    "        augment(data = data, type.predict = \"response\") %>%\n",
    "        select(everything(), -starts_with('.'), 'propensity_score' = '.fitted') %>%\n",
    "        mutate(\n",
    "            outcome = !!as.name(outcome),\n",
    "            propensity_bin = findInterval(propensity_score, bin_edges)\n",
    "        ) %>%\n",
    "        group_by(propensity_bin) %>%\n",
    "        mutate(\n",
    "            n_exposed = sum(outcome),\n",
    "            n_unexposed = n() - n_exposed,\n",
    "        ) %>%\n",
    "        filter(n_exposed > 0, n_unexposed > 0) %>%\n",
    "        ungroup %>%\n",
    "        nest(data = c(-propensity_bin, -outcome, -n_exposed, -n_unexposed)) %>%\n",
    "        mutate(\n",
    "            n_to_sample = if_else(outcome == 1, n_exposed, control_to_case_ratio * n_exposed),\n",
    "            replace = as.logical(outcome == 0 & n_to_sample > n_unexposed),\n",
    "            data = pmap(list(data, n_to_sample, replace), ~sample_n(tbl = ..1, size = ..2, replace = ..3)),\n",
    "        ) %>%\n",
    "        select(data) %>%\n",
    "        unnest(data)\n",
    "}"
   ]
  },
  {
   "cell_type": "code",
   "execution_count": 7,
   "metadata": {},
   "outputs": [],
   "source": [
    "# Use race=white and ethnicity=non-hispanic as reference groups\n",
    "match_formula <- full_df %>% \n",
    "    select(age, male_sex, starts_with('race_'), -race_white, \n",
    "           starts_with('ethnicity_'), -ethnicity_nonhs, starts_with('icd_')) %>% \n",
    "    names %>%\n",
    "    paste(collapse = ' + ') %>%\n",
    "    str_c('had_drug ~ ', .)"
   ]
  },
  {
   "cell_type": "code",
   "execution_count": 8,
   "metadata": {},
   "outputs": [],
   "source": [
    "options(warn = -1)\n",
    "\n",
    "propensity_matched_df <- full_df %>%\n",
    "    nest(unmatched = c(-drug_class_name)) %>%\n",
    "    mutate(\n",
    "        matched = unmatched %>% \n",
    "            map(~stratified_propensity_match(formula(match_formula), .x, n_bins = 20, control_to_case_ratio = 3))\n",
    "    ) %>%\n",
    "    pivot_longer(c(unmatched, matched), names_to = 'match_type', values_to = 'data') %>%\n",
    "    unnest(data) %>%\n",
    "    select(-starts_with('icd_')) %>%\n",
    "    replace_na(list(propensity_score = 0))\n",
    "\n",
    "options(warn = 0)"
   ]
  },
  {
   "cell_type": "markdown",
   "metadata": {},
   "source": [
    "## 3. Effect size estimatation"
   ]
  },
  {
   "cell_type": "code",
   "execution_count": 9,
   "metadata": {},
   "outputs": [],
   "source": [
    "format_counts <- function(df) {\n",
    "    df %>% \n",
    "    summarize(\n",
    "        n_exposed = sum(had_drug * had_outcome), \n",
    "        frac_exposed = (100 * n_exposed / sum(had_drug)) %>% round(1),\n",
    "        n_unexposed = sum((1 - had_drug) * had_outcome),\n",
    "        frac_unexposed = (100 * n_unexposed / sum(1 - had_drug)) %>% round(1),\n",
    "        exposed = str_glue('{n_exposed} ({frac_exposed}%)'),\n",
    "        unexposed = str_glue('{n_unexposed} ({frac_unexposed}%)')\n",
    "    ) %>%\n",
    "    select(exposed, unexposed)\n",
    "}"
   ]
  },
  {
   "cell_type": "code",
   "execution_count": 10,
   "metadata": {},
   "outputs": [],
   "source": [
    "adjusted_formula <- propensity_matched_df %>%\n",
    "    select(had_drug, male_sex, age, starts_with('race_'), -race_white, \n",
    "           starts_with('ethnicity_'), -ethnicity_nonhs, propensity_score) %>%\n",
    "    names %>%\n",
    "    paste(collapse = ' + ') %>%\n",
    "    str_c('Surv(time_to_outcome, had_outcome) ~ ', .)"
   ]
  },
  {
   "cell_type": "code",
   "execution_count": 11,
   "metadata": {},
   "outputs": [
    {
     "name": "stderr",
     "output_type": "stream",
     "text": [
      "Warning message in fitter(X, Y, istrat, offset, init, control, weights = weights, :\n",
      "“Loglik converged before variable  4 ; coefficient may be infinite. ”\n",
      "Warning message in fitter(X, Y, istrat, offset, init, control, weights = weights, :\n",
      "“Loglik converged before variable  4 ; coefficient may be infinite. ”\n",
      "Warning message in fitter(X, Y, istrat, offset, init, control, weights = weights, :\n",
      "“Loglik converged before variable  4 ; coefficient may be infinite. ”\n"
     ]
    }
   ],
   "source": [
    "regression_coefficients_df <- propensity_matched_df %>%\n",
    "    mutate(\n",
    "        # These outcomes have the same start time, so the earliest is the max, unless they are \n",
    "        # equal, in which case it doesn't matter.\n",
    "        intubated_or_died = pmax(intubated, died),\n",
    "        cov_start_to_intubation_or_death = pmin(cov_start_to_intubation, cov_start_to_death)\n",
    "    ) %>%\n",
    "    unite('intubation', c(intubated, cov_start_to_intubation)) %>%\n",
    "    unite('death', c(died, cov_start_to_death)) %>%\n",
    "    unite('intubation_or_death', c(intubated_or_died, cov_start_to_intubation_or_death)) %>%\n",
    "    pivot_longer(c(intubation, death, intubation_or_death), names_to = 'outcome', \n",
    "                 values_to = 'outcome_combined') %>%\n",
    "    separate(outcome_combined, c('had_outcome', 'time_to_outcome'), sep = '_', convert = T) %>%\n",
    "    nest(data = c(-outcome, -match_type, -drug_class_name)) %>%\n",
    "    mutate(\n",
    "        counts = data %>% map(format_counts),\n",
    "        reg = data %>% map(~coxph(formula(adjusted_formula), data = .x)) %>% map(tidy),\n",
    "    ) %>%\n",
    "    select(-data) %>%\n",
    "    unnest(cols = c(reg, counts))"
   ]
  },
  {
   "cell_type": "markdown",
   "metadata": {},
   "source": [
    "## 4. Plots"
   ]
  },
  {
   "cell_type": "code",
   "execution_count": 12,
   "metadata": {},
   "outputs": [],
   "source": [
    "options(repr.plot.width = 6, repr.plot.height = 3, repr.plot.res = 250)\n",
    "\n",
    "forest_plot_df <- regression_coefficients_df %>%\n",
    "    filter(term == 'had_drug') %>%\n",
    "    mutate(\n",
    "        drug_class_name = drug_class_name %>% fct_rev,\n",
    "        outcome = outcome %>% str_replace_all('_', ' ') %>% fct_rev,\n",
    "        match_type = match_type,\n",
    "        p.value = p.value %>% sprintf(fmt = '%.2g'),\n",
    "        conf.low = estimate - 1.96 * std.error,\n",
    "        conf.high = estimate + 1.96 * std.error,\n",
    "        across(c(estimate, conf.low, conf.high), exp)\n",
    "    ) %>%\n",
    "    select(-term, -std.error, -statistic)\n",
    "\n",
    "forest_ggplot <- forest_plot_df %>%\n",
    "    ggplot(aes(x = estimate, xmin = conf.low, xmax = conf.high, y = drug_class_name, \n",
    "               group = match_type, color = match_type, shape = match_type)) +\n",
    "    geom_vline(xintercept = 1, color = 'grey50', linetype = 'dashed') +\n",
    "    geom_errorbarh(position = position_dodge(width = 0.5), height = 0.2) +\n",
    "    geom_point(position = position_dodge(width = 0.5)) +\n",
    "    facet_wrap(vars(outcome)) +\n",
    "    xlab('Hazard ratio (95% CI)') +\n",
    "    theme_cowplot() +\n",
    "    theme(\n",
    "        panel.background = element_rect(color = 'black'),\n",
    "        axis.title.y = element_blank(),\n",
    "        legend.title = element_blank(),\n",
    "    ) +\n",
    "    guides(color = guide_legend(reverse = T), shape = guide_legend(reverse = T))"
   ]
  },
  {
   "cell_type": "code",
   "execution_count": 13,
   "metadata": {},
   "outputs": [
    {
     "data": {
      "image/png": "[encoded data removed]",
      "text/plain": [
       "plot without title"
      ]
     },
     "metadata": {
      "image/png": {
       "height": 375,
       "width": 1125
      },
      "text/plain": {
       "height": 375,
       "width": 1125
      }
     },
     "output_type": "display_data"
    }
   ],
   "source": [
    "options(repr.plot.width = 9, repr.plot.height = 3, repr.plot.res = 250)\n",
    "\n",
    "ggsave('img/effect_size_plot.pdf', forest_ggplot, width = 9, height = 3)\n",
    "ggsave('img/effect_size_plot.png', forest_ggplot, width = 9, height = 3, dpi = 400)\n",
    "\n",
    "forest_ggplot"
   ]
  },
  {
   "cell_type": "code",
   "execution_count": 14,
   "metadata": {},
   "outputs": [
    {
     "name": "stderr",
     "output_type": "stream",
     "text": [
      "save_kable will have the best result with magick installed. \n",
      "\n"
     ]
    },
    {
     "data": {
      "text/html": [
       "<table class=\"table table-striped table-responsive table-hover\" style=\"width: auto !important; margin-left: auto; margin-right: auto;\">\n",
       " <thead>\n",
       "<tr>\n",
       "<th style=\"border-bottom:hidden\" colspan=\"2\"></th>\n",
       "<th style=\"border-bottom:hidden; padding-bottom:0; padding-left:3px;padding-right:3px;text-align: center; \" colspan=\"5\"><div style=\"border-bottom: 1px solid #ddd; padding-bottom: 5px; \">Unmatched</div></th>\n",
       "<th style=\"border-bottom:hidden; padding-bottom:0; padding-left:3px;padding-right:3px;text-align: center; \" colspan=\"5\"><div style=\"border-bottom: 1px solid #ddd; padding-bottom: 5px; \">Matched</div></th>\n",
       "</tr>\n",
       "  <tr>\n",
       "   <th style=\"text-align:left;\"> Outcome </th>\n",
       "   <th style=\"text-align:left;\"> Drug class </th>\n",
       "   <th style=\"text-align:left;\"> Treated </th>\n",
       "   <th style=\"text-align:left;\"> Control </th>\n",
       "   <th style=\"text-align:right;\"> HR </th>\n",
       "   <th style=\"text-align:left;\"> 95% CI </th>\n",
       "   <th style=\"text-align:left;\"> p-value </th>\n",
       "   <th style=\"text-align:left;\"> Treated </th>\n",
       "   <th style=\"text-align:left;\"> Control </th>\n",
       "   <th style=\"text-align:right;\"> HR </th>\n",
       "   <th style=\"text-align:left;\"> 95% CI </th>\n",
       "   <th style=\"text-align:left;\"> p-value </th>\n",
       "  </tr>\n",
       " </thead>\n",
       "<tbody>\n",
       "  <tr>\n",
       "   <td style=\"text-align:left;vertical-align: middle !important;\" rowspan=\"5\"> intubation or death </td>\n",
       "   <td style=\"text-align:left;\"> anti-androgen </td>\n",
       "   <td style=\"text-align:left;\"> 125 (36.5%) </td>\n",
       "   <td style=\"text-align:left;\"> 1056 (18.1%) </td>\n",
       "   <td style=\"text-align:right;\"> 1.55 </td>\n",
       "   <td style=\"text-align:left;\"> 1.28-1.87 </td>\n",
       "   <td style=\"text-align:left;\"> 5.9e-06 </td>\n",
       "   <td style=\"text-align:left;\"> 120 (36.9%) </td>\n",
       "   <td style=\"text-align:left;\"> 324 (33.2%) </td>\n",
       "   <td style=\"text-align:right;\"> 1.19 </td>\n",
       "   <td style=\"text-align:left;\"> 0.96-1.47 </td>\n",
       "   <td style=\"text-align:left;\"> 0.1 </td>\n",
       "  </tr>\n",
       "  <tr>\n",
       "   \n",
       "   <td style=\"text-align:left;\"> Anti-androgen + estrogen </td>\n",
       "   <td style=\"text-align:left;\"> 135 (31.8%) </td>\n",
       "   <td style=\"text-align:left;\"> 1046 (18.2%) </td>\n",
       "   <td style=\"text-align:right;\"> 1.49 </td>\n",
       "   <td style=\"text-align:left;\"> 1.24-1.78 </td>\n",
       "   <td style=\"text-align:left;\"> 1.8e-05 </td>\n",
       "   <td style=\"text-align:left;\"> 135 (31.8%) </td>\n",
       "   <td style=\"text-align:left;\"> 378 (29.7%) </td>\n",
       "   <td style=\"text-align:right;\"> 1.11 </td>\n",
       "   <td style=\"text-align:left;\"> 0.91-1.35 </td>\n",
       "   <td style=\"text-align:left;\"> 0.3 </td>\n",
       "  </tr>\n",
       "  <tr>\n",
       "   \n",
       "   <td style=\"text-align:left;\"> Down-regulate </td>\n",
       "   <td style=\"text-align:left;\"> 135 (30.8%) </td>\n",
       "   <td style=\"text-align:left;\"> 1046 (18.2%) </td>\n",
       "   <td style=\"text-align:right;\"> 1.45 </td>\n",
       "   <td style=\"text-align:left;\"> 1.21-1.74 </td>\n",
       "   <td style=\"text-align:left;\"> 5.9e-05 </td>\n",
       "   <td style=\"text-align:left;\"> 133 (30.9%) </td>\n",
       "   <td style=\"text-align:left;\"> 373 (28.8%) </td>\n",
       "   <td style=\"text-align:right;\"> 1.11 </td>\n",
       "   <td style=\"text-align:left;\"> 0.91-1.35 </td>\n",
       "   <td style=\"text-align:left;\"> 0.31 </td>\n",
       "  </tr>\n",
       "  <tr>\n",
       "   \n",
       "   <td style=\"text-align:left;\"> Up-regulate </td>\n",
       "   <td style=\"text-align:left;\"> 230 (31.7%) </td>\n",
       "   <td style=\"text-align:left;\"> 951 (17.4%) </td>\n",
       "   <td style=\"text-align:right;\"> 1.75 </td>\n",
       "   <td style=\"text-align:left;\"> 1.51-2.02 </td>\n",
       "   <td style=\"text-align:left;\"> 4.5e-14 </td>\n",
       "   <td style=\"text-align:left;\"> 230 (31.7%) </td>\n",
       "   <td style=\"text-align:left;\"> 670 (30.8%) </td>\n",
       "   <td style=\"text-align:right;\"> 1.04 </td>\n",
       "   <td style=\"text-align:left;\"> 0.89-1.21 </td>\n",
       "   <td style=\"text-align:left;\"> 0.61 </td>\n",
       "  </tr>\n",
       "  <tr>\n",
       "   \n",
       "   <td style=\"text-align:left;\"> Vitamin D </td>\n",
       "   <td style=\"text-align:left;\"> 225 (31.8%) </td>\n",
       "   <td style=\"text-align:left;\"> 956 (17.5%) </td>\n",
       "   <td style=\"text-align:right;\"> 1.74 </td>\n",
       "   <td style=\"text-align:left;\"> 1.5-2.01 </td>\n",
       "   <td style=\"text-align:left;\"> 1.5e-13 </td>\n",
       "   <td style=\"text-align:left;\"> 225 (31.8%) </td>\n",
       "   <td style=\"text-align:left;\"> 641 (30.2%) </td>\n",
       "   <td style=\"text-align:right;\"> 1.10 </td>\n",
       "   <td style=\"text-align:left;\"> 0.94-1.28 </td>\n",
       "   <td style=\"text-align:left;\"> 0.24 </td>\n",
       "  </tr>\n",
       "  <tr>\n",
       "   <td style=\"text-align:left;vertical-align: middle !important;\" rowspan=\"5\"> intubation </td>\n",
       "   <td style=\"text-align:left;\"> anti-androgen </td>\n",
       "   <td style=\"text-align:left;\"> 79 (23.1%) </td>\n",
       "   <td style=\"text-align:left;\"> 626 (10.7%) </td>\n",
       "   <td style=\"text-align:right;\"> 1.96 </td>\n",
       "   <td style=\"text-align:left;\"> 1.54-2.49 </td>\n",
       "   <td style=\"text-align:left;\"> 4.1e-08 </td>\n",
       "   <td style=\"text-align:left;\"> 78 (24%) </td>\n",
       "   <td style=\"text-align:left;\"> 177 (18.2%) </td>\n",
       "   <td style=\"text-align:right;\"> 1.42 </td>\n",
       "   <td style=\"text-align:left;\"> 1.09-1.86 </td>\n",
       "   <td style=\"text-align:left;\"> 0.0094 </td>\n",
       "  </tr>\n",
       "  <tr>\n",
       "   \n",
       "   <td style=\"text-align:left;\"> Anti-androgen + estrogen </td>\n",
       "   <td style=\"text-align:left;\"> 87 (20.5%) </td>\n",
       "   <td style=\"text-align:left;\"> 618 (10.7%) </td>\n",
       "   <td style=\"text-align:right;\"> 1.82 </td>\n",
       "   <td style=\"text-align:left;\"> 1.45-2.28 </td>\n",
       "   <td style=\"text-align:left;\"> 2.5e-07 </td>\n",
       "   <td style=\"text-align:left;\"> 87 (20.5%) </td>\n",
       "   <td style=\"text-align:left;\"> 241 (18.9%) </td>\n",
       "   <td style=\"text-align:right;\"> 1.12 </td>\n",
       "   <td style=\"text-align:left;\"> 0.88-1.44 </td>\n",
       "   <td style=\"text-align:left;\"> 0.36 </td>\n",
       "  </tr>\n",
       "  <tr>\n",
       "   \n",
       "   <td style=\"text-align:left;\"> Down-regulate </td>\n",
       "   <td style=\"text-align:left;\"> 87 (19.9%) </td>\n",
       "   <td style=\"text-align:left;\"> 618 (10.8%) </td>\n",
       "   <td style=\"text-align:right;\"> 1.75 </td>\n",
       "   <td style=\"text-align:left;\"> 1.4-2.2 </td>\n",
       "   <td style=\"text-align:left;\"> 1.2e-06 </td>\n",
       "   <td style=\"text-align:left;\"> 85 (19.7%) </td>\n",
       "   <td style=\"text-align:left;\"> 239 (18.5%) </td>\n",
       "   <td style=\"text-align:right;\"> 1.11 </td>\n",
       "   <td style=\"text-align:left;\"> 0.86-1.42 </td>\n",
       "   <td style=\"text-align:left;\"> 0.43 </td>\n",
       "  </tr>\n",
       "  <tr>\n",
       "   \n",
       "   <td style=\"text-align:left;\"> Up-regulate </td>\n",
       "   <td style=\"text-align:left;\"> 150 (20.7%) </td>\n",
       "   <td style=\"text-align:left;\"> 555 (10.2%) </td>\n",
       "   <td style=\"text-align:right;\"> 2.07 </td>\n",
       "   <td style=\"text-align:left;\"> 1.73-2.49 </td>\n",
       "   <td style=\"text-align:left;\"> 3.7e-15 </td>\n",
       "   <td style=\"text-align:left;\"> 150 (20.7%) </td>\n",
       "   <td style=\"text-align:left;\"> 366 (16.8%) </td>\n",
       "   <td style=\"text-align:right;\"> 1.23 </td>\n",
       "   <td style=\"text-align:left;\"> 1.02-1.49 </td>\n",
       "   <td style=\"text-align:left;\"> 0.034 </td>\n",
       "  </tr>\n",
       "  <tr>\n",
       "   \n",
       "   <td style=\"text-align:left;\"> Vitamin D </td>\n",
       "   <td style=\"text-align:left;\"> 145 (20.5%) </td>\n",
       "   <td style=\"text-align:left;\"> 560 (10.2%) </td>\n",
       "   <td style=\"text-align:right;\"> 2.04 </td>\n",
       "   <td style=\"text-align:left;\"> 1.7-2.45 </td>\n",
       "   <td style=\"text-align:left;\"> 3.5e-14 </td>\n",
       "   <td style=\"text-align:left;\"> 145 (20.5%) </td>\n",
       "   <td style=\"text-align:left;\"> 335 (15.8%) </td>\n",
       "   <td style=\"text-align:right;\"> 1.29 </td>\n",
       "   <td style=\"text-align:left;\"> 1.06-1.57 </td>\n",
       "   <td style=\"text-align:left;\"> 0.011 </td>\n",
       "  </tr>\n",
       "  <tr>\n",
       "   <td style=\"text-align:left;vertical-align: middle !important;\" rowspan=\"5\"> death </td>\n",
       "   <td style=\"text-align:left;\"> anti-androgen </td>\n",
       "   <td style=\"text-align:left;\"> 72 (21.1%) </td>\n",
       "   <td style=\"text-align:left;\"> 699 (12%) </td>\n",
       "   <td style=\"text-align:right;\"> 1.06 </td>\n",
       "   <td style=\"text-align:left;\"> 0.83-1.36 </td>\n",
       "   <td style=\"text-align:left;\"> 0.63 </td>\n",
       "   <td style=\"text-align:left;\"> 67 (20.6%) </td>\n",
       "   <td style=\"text-align:left;\"> 238 (24.4%) </td>\n",
       "   <td style=\"text-align:right;\"> 0.88 </td>\n",
       "   <td style=\"text-align:left;\"> 0.67-1.16 </td>\n",
       "   <td style=\"text-align:left;\"> 0.36 </td>\n",
       "  </tr>\n",
       "  <tr>\n",
       "   \n",
       "   <td style=\"text-align:left;\"> Anti-androgen + estrogen </td>\n",
       "   <td style=\"text-align:left;\"> 74 (17.5%) </td>\n",
       "   <td style=\"text-align:left;\"> 697 (12.1%) </td>\n",
       "   <td style=\"text-align:right;\"> 1.01 </td>\n",
       "   <td style=\"text-align:left;\"> 0.8-1.29 </td>\n",
       "   <td style=\"text-align:left;\"> 0.91 </td>\n",
       "   <td style=\"text-align:left;\"> 74 (17.5%) </td>\n",
       "   <td style=\"text-align:left;\"> 238 (18.7%) </td>\n",
       "   <td style=\"text-align:right;\"> 0.95 </td>\n",
       "   <td style=\"text-align:left;\"> 0.73-1.24 </td>\n",
       "   <td style=\"text-align:left;\"> 0.7 </td>\n",
       "  </tr>\n",
       "  <tr>\n",
       "   \n",
       "   <td style=\"text-align:left;\"> Down-regulate </td>\n",
       "   <td style=\"text-align:left;\"> 74 (16.9%) </td>\n",
       "   <td style=\"text-align:left;\"> 697 (12.1%) </td>\n",
       "   <td style=\"text-align:right;\"> 1.00 </td>\n",
       "   <td style=\"text-align:left;\"> 0.79-1.28 </td>\n",
       "   <td style=\"text-align:left;\"> 0.99 </td>\n",
       "   <td style=\"text-align:left;\"> 72 (16.7%) </td>\n",
       "   <td style=\"text-align:left;\"> 220 (17%) </td>\n",
       "   <td style=\"text-align:right;\"> 1.02 </td>\n",
       "   <td style=\"text-align:left;\"> 0.78-1.33 </td>\n",
       "   <td style=\"text-align:left;\"> 0.89 </td>\n",
       "  </tr>\n",
       "  <tr>\n",
       "   \n",
       "   <td style=\"text-align:left;\"> Up-regulate </td>\n",
       "   <td style=\"text-align:left;\"> 127 (17.5%) </td>\n",
       "   <td style=\"text-align:left;\"> 644 (11.8%) </td>\n",
       "   <td style=\"text-align:right;\"> 1.34 </td>\n",
       "   <td style=\"text-align:left;\"> 1.11-1.63 </td>\n",
       "   <td style=\"text-align:left;\"> 0.0027 </td>\n",
       "   <td style=\"text-align:left;\"> 127 (17.5%) </td>\n",
       "   <td style=\"text-align:left;\"> 442 (20.3%) </td>\n",
       "   <td style=\"text-align:right;\"> 0.84 </td>\n",
       "   <td style=\"text-align:left;\"> 0.69-1.02 </td>\n",
       "   <td style=\"text-align:left;\"> 0.084 </td>\n",
       "  </tr>\n",
       "  <tr>\n",
       "   \n",
       "   <td style=\"text-align:left;\"> Vitamin D </td>\n",
       "   <td style=\"text-align:left;\"> 125 (17.7%) </td>\n",
       "   <td style=\"text-align:left;\"> 646 (11.8%) </td>\n",
       "   <td style=\"text-align:right;\"> 1.34 </td>\n",
       "   <td style=\"text-align:left;\"> 1.1-1.62 </td>\n",
       "   <td style=\"text-align:left;\"> 0.0032 </td>\n",
       "   <td style=\"text-align:left;\"> 125 (17.7%) </td>\n",
       "   <td style=\"text-align:left;\"> 439 (20.7%) </td>\n",
       "   <td style=\"text-align:right;\"> 0.85 </td>\n",
       "   <td style=\"text-align:left;\"> 0.7-1.04 </td>\n",
       "   <td style=\"text-align:left;\"> 0.12 </td>\n",
       "  </tr>\n",
       "</tbody>\n",
       "</table>"
      ]
     },
     "metadata": {},
     "output_type": "display_data"
    }
   ],
   "source": [
    "forest_table <- forest_plot_df %>%\n",
    "    mutate(\n",
    "        estimate = estimate %>% round(2),\n",
    "        '95% CI' = str_c(round(conf.low, 2), '-', round(conf.high, 2))\n",
    "    ) %>%\n",
    "    rename('Drug class' = 'drug_class_name', 'Treated' = 'exposed', 'Control' = 'unexposed',\n",
    "           'HR' = 'estimate', 'p-value' = 'p.value') %>%\n",
    "    select(-conf.low, -conf.high) %>%\n",
    "    nest(data = c(`Treated`, `Control`, `HR`, `95% CI`, `p-value`)) %>%\n",
    "    pivot_wider(names_from = match_type, values_from = data) %>%\n",
    "    arrange(outcome) %>%\n",
    "    relocate(outcome) %>%\n",
    "    rename(\"Outcome\" = outcome) %>%\n",
    "    unnest(c(unmatched, matched), names_repair = 'minimal') %>%\n",
    "    kable() %>%\n",
    "    kable_styling(bootstrap_options = c(\"striped\", \"responsive\", \"hover\"), full_width = F) %>%\n",
    "    add_header_above(c(\" \" = 2, \"Unmatched\" = 5, \"Matched\" = 5)) %>%\n",
    "    collapse_rows(columns = 1:2)\n",
    "\n",
    "forest_table %>% save_kable(file = 'img/effect_estimate_table.html')\n",
    "forest_table %>% save_kable(file = 'img/effect_estimate_table.png', zoom = 5)\n",
    "\n",
    "forest_table %>%\n",
    "    as.character %>%\n",
    "    IRdisplay::display_html()"
   ]
  },
  {
   "cell_type": "markdown",
   "metadata": {},
   "source": [
    "## 5. Export to Google Drive"
   ]
  },
  {
   "cell_type": "code",
   "execution_count": 15,
   "metadata": {},
   "outputs": [
    {
     "name": "stderr",
     "output_type": "stream",
     "text": [
      "\n",
      "Attaching package: ‘googledrive’\n",
      "\n",
      "\n",
      "The following objects are masked from ‘package:googlesheets4’:\n",
      "\n",
      "    request_generate, request_make\n",
      "\n",
      "\n"
     ]
    }
   ],
   "source": [
    "library(googlesheets4)\n",
    "gs4_auth(email = 'michael.zietz@gmail.com', path = '~/.ssh/xswap-compute-5b866b2d1e2f.json', \n",
    "         use_oob = TRUE)\n",
    "\n",
    "library(googledrive)\n",
    "drive_auth(email = 'michael.zietz@gmail.com', path = '~/.ssh/xswap-compute-5b866b2d1e2f.json')"
   ]
  },
  {
   "cell_type": "code",
   "execution_count": 16,
   "metadata": {},
   "outputs": [],
   "source": [
    "ss <- gs4_get(drive_get(path = 'Research/TMPRSS2_v2.0'))"
   ]
  },
  {
   "cell_type": "code",
   "execution_count": 17,
   "metadata": {},
   "outputs": [
    {
     "name": "stderr",
     "output_type": "stream",
     "text": [
      "Writing to \"TMPRSS2_v2.0\"\n",
      "\n",
      "Writing to sheet \"definitions\"\n",
      "\n",
      "Writing to \"TMPRSS2_v2.0\"\n",
      "\n",
      "Writing to sheet \"class_counts\"\n",
      "\n",
      "Writing to \"TMPRSS2_v2.0\"\n",
      "\n",
      "Writing to sheet \"drug_counts\"\n",
      "\n",
      "Writing to \"TMPRSS2_v2.0\"\n",
      "\n",
      "Writing to sheet \"effect_sizes\"\n",
      "\n"
     ]
    }
   ],
   "source": [
    "con %>% tbl('tmprss2_drugs') %>% as_tibble %>%\n",
    "    mutate(across(everything(), as.character)) %>%\n",
    "    write_sheet(ss, 'definitions')\n",
    "\n",
    "con %>% tbl('tmprss2_class_aggregate') %>% as_tibble %>%\n",
    "    mutate(across(everything(), as.character)) %>%\n",
    "    write_sheet(ss, 'class_counts')\n",
    "\n",
    "con %>% tbl('tmprss2_drug_aggregate') %>% as_tibble %>%\n",
    "    mutate(across(everything(), as.character)) %>%\n",
    "    write_sheet(ss, 'drug_counts')\n",
    "\n",
    "forest_plot_df %>%\n",
    "    mutate(\n",
    "        estimate = estimate %>% round(2),\n",
    "        '95% CI' = str_c(round(conf.low, 2), '-', round(conf.high, 2))\n",
    "    ) %>%\n",
    "    rename('Drug class' = 'drug_class_name', 'Treated' = 'exposed', 'Control' = 'unexposed',\n",
    "           'HR' = 'estimate', 'p-value' = 'p.value') %>%\n",
    "    select(-conf.low, -conf.high) %>%\n",
    "    arrange(outcome) %>%\n",
    "    relocate(outcome) %>%\n",
    "    relocate(`p-value`, .after = `95% CI`) %>%\n",
    "    rename(\"Outcome\" = outcome) %>%\n",
    "    write_sheet(ss, 'effect_sizes')"
   ]
  },
  {
   "cell_type": "code",
   "execution_count": 18,
   "metadata": {
    "scrolled": true
   },
   "outputs": [
    {
     "name": "stderr",
     "output_type": "stream",
     "text": [
      "Editing \"TMPRSS2_v2.0\"\n",
      "\n",
      "Resizing one or more columns in \"definitions\"\n",
      "\n",
      "Editing \"TMPRSS2_v2.0\"\n",
      "\n",
      "Resizing one or more columns in \"class_counts\"\n",
      "\n",
      "Editing \"TMPRSS2_v2.0\"\n",
      "\n",
      "Resizing one or more columns in \"drug_counts\"\n",
      "\n",
      "Editing \"TMPRSS2_v2.0\"\n",
      "\n",
      "Resizing one or more columns in \"effect_sizes\"\n",
      "\n"
     ]
    }
   ],
   "source": [
    "# Auto-resize columns\n",
    "outputs <- list('definitions', 'class_counts', 'drug_counts', 'effect_sizes') %>%\n",
    "    map(~range_autofit(ss, sheet = .x, dimension = \"columns\"))"
   ]
  }
 ],
 "metadata": {
  "kernelspec": {
   "display_name": "R [conda env:covid]",
   "language": "R",
   "name": "conda-env-covid-r"
  },
  "language_info": {
   "codemirror_mode": "r",
   "file_extension": ".r",
   "mimetype": "text/x-r-source",
   "name": "R",
   "pygments_lexer": "r",
   "version": "4.0.2"
  }
 },
 "nbformat": 4,
 "nbformat_minor": 4
}
